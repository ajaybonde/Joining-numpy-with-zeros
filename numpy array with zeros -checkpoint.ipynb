{
 "cells": [
  {
   "cell_type": "markdown",
   "id": "e4071924",
   "metadata": {},
   "source": [
    "# numpy array with zeros"
   ]
  },
  {
   "cell_type": "code",
   "execution_count": 6,
   "id": "e6c4dfbb",
   "metadata": {},
   "outputs": [],
   "source": [
    "import numpy as np"
   ]
  },
  {
   "cell_type": "code",
   "execution_count": 7,
   "id": "933a8ab3",
   "metadata": {},
   "outputs": [
    {
     "data": {
      "text/plain": [
       "array([[0., 0.]])"
      ]
     },
     "execution_count": 7,
     "metadata": {},
     "output_type": "execute_result"
    }
   ],
   "source": [
    "n1 =np.zeros((1,2))\n",
    "n1"
   ]
  },
  {
   "cell_type": "code",
   "execution_count": 8,
   "id": "29572d81",
   "metadata": {},
   "outputs": [],
   "source": [
    "n2 =np.zeros((4,4))"
   ]
  },
  {
   "cell_type": "code",
   "execution_count": 9,
   "id": "1934ba0d",
   "metadata": {},
   "outputs": [
    {
     "data": {
      "text/plain": [
       "array([[0., 0., 0., 0.],\n",
       "       [0., 0., 0., 0.],\n",
       "       [0., 0., 0., 0.],\n",
       "       [0., 0., 0., 0.]])"
      ]
     },
     "execution_count": 9,
     "metadata": {},
     "output_type": "execute_result"
    }
   ],
   "source": [
    "n2\n"
   ]
  },
  {
   "cell_type": "code",
   "execution_count": null,
   "id": "0cc6702a",
   "metadata": {},
   "outputs": [],
   "source": []
  },
  {
   "cell_type": "code",
   "execution_count": null,
   "id": "2f4a0d34",
   "metadata": {},
   "outputs": [],
   "source": []
  }
 ],
 "metadata": {
  "kernelspec": {
   "display_name": "Python 3 (ipykernel)",
   "language": "python",
   "name": "python3"
  },
  "language_info": {
   "codemirror_mode": {
    "name": "ipython",
    "version": 3
   },
   "file_extension": ".py",
   "mimetype": "text/x-python",
   "name": "python",
   "nbconvert_exporter": "python",
   "pygments_lexer": "ipython3",
   "version": "3.9.7"
  }
 },
 "nbformat": 4,
 "nbformat_minor": 5
}
